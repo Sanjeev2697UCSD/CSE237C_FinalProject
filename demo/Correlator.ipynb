{
 "cells": [
  {
   "cell_type": "markdown",
   "metadata": {},
   "source": [
    "## END-TO-END SYSTEM TESTBENCH\n",
    "\n",
    "This notebook takes input from the input.dat file and the output from out.gold.dat. From the input, the correlator IP tries to find out the which codes correlates the most with the input."
   ]
  },
  {
   "cell_type": "code",
   "execution_count": 1,
   "metadata": {},
   "outputs": [
    {
     "data": {
      "application/javascript": "\ntry {\nrequire(['notebook/js/codecell'], function(codecell) {\n  codecell.CodeCell.options_default.highlight_modes[\n      'magic_text/x-csrc'] = {'reg':[/^%%microblaze/]};\n  Jupyter.notebook.events.one('kernel_ready.Kernel', function(){\n      Jupyter.notebook.get_cells().map(function(cell){\n          if (cell.cell_type == 'code'){ cell.auto_highlight(); } }) ;\n  });\n});\n} catch (e) {};\n"
     },
     "metadata": {},
     "output_type": "display_data"
    },
    {
     "data": {
      "application/javascript": "\ntry {\nrequire(['notebook/js/codecell'], function(codecell) {\n  codecell.CodeCell.options_default.highlight_modes[\n      'magic_text/x-csrc'] = {'reg':[/^%%pybind11/]};\n  Jupyter.notebook.events.one('kernel_ready.Kernel', function(){\n      Jupyter.notebook.get_cells().map(function(cell){\n          if (cell.cell_type == 'code'){ cell.auto_highlight(); } }) ;\n  });\n});\n} catch (e) {};\n"
     },
     "metadata": {},
     "output_type": "display_data"
    }
   ],
   "source": [
    "from pynq import Overlay\n",
    "import numpy as np\n",
    "from pynq import Xlnk\n",
    "from pynq.lib import dma\n",
    "from scipy.linalg import dft\n",
    "import matplotlib.pyplot as plt"
   ]
  },
  {
   "cell_type": "code",
   "execution_count": 27,
   "metadata": {},
   "outputs": [],
   "source": [
    "ol=Overlay('correlator.bit')"
   ]
  },
  {
   "cell_type": "code",
   "execution_count": 28,
   "metadata": {},
   "outputs": [],
   "source": [
    "dma1=ol.correlator_ss.axi_dma_0"
   ]
  },
  {
   "cell_type": "markdown",
   "metadata": {},
   "source": [
    "We are loading the input and the golden output from their respective dat files. The input is sent to the IP using the dma send channel and the output is obtained from the IP using the dma receive channel.\n",
    "Therefore, only one component of DMA IP is enough to execute the code."
   ]
  },
  {
   "cell_type": "code",
   "execution_count": null,
   "metadata": {},
   "outputs": [],
   "source": [
    "input_filename = 'input.dat'\n",
    "input_data = np.fromfile(input_filename, dtype=float)\n",
    "\n",
    "output_filename = 'out.gold.dat'\n",
    "golden_op = np.fromfile(output_filename, dtype=float)"
   ]
  },
  {
   "cell_type": "code",
   "execution_count": 29,
   "metadata": {},
   "outputs": [],
   "source": [
    "NUM_CODES = len(output_data)\n",
    "INPUT_LENGTH = len(input_data)\n",
    "\n",
    "error = np.zeros(NUM_CODES)\n",
    "ind = np.arange(NUM_CODES)\n",
    "rmse = np.zeros(NUM_CODES)\n"
   ]
  },
  {
   "cell_type": "code",
   "execution_count": 30,
   "metadata": {},
   "outputs": [
    {
     "name": "stderr",
     "output_type": "stream",
     "text": [
      "/usr/lib/python3/dist-packages/ipykernel_launcher.py:1: DeprecationWarning: pynq.Xlnk is deprecated and will be removed in 2.7 - use pynq.allocate instead\n",
      "  \"\"\"Entry point for launching an IPython kernel.\n"
     ]
    }
   ],
   "source": [
    "xlnk = Xlnk()\n",
    "in1 = xlnk.cma_array(shape=(NUM_LENGTH,), dtype=np.float32) \n",
    "out1 = xlnk.cma_array(shape=(NUM_CODES,), dtype=np.float32) \n",
    "\n",
    "np.copyto(in1, input_data)\n"
   ]
  },
  {
   "cell_type": "code",
   "execution_count": 33,
   "metadata": {},
   "outputs": [],
   "source": [
    "\n",
    "correlator_ip = ol.correlator_ss.correlator_0\n",
    "correlator_ip.write(0x00,1)\n",
    "dma1.recvchannel.start()\n",
    "dma1.sendchannel.start()\n",
    "\n",
    "dma1.recvchannel.transfer(out1)\n",
    "dma1.sendchannel.transfer(in1)\n",
    "\n",
    "# Wait for the DMA to send and recv data.\n",
    "dma1.recvchannel.wait()\n",
    "dma1.sendchannel.wait()"
   ]
  },
  {
   "cell_type": "markdown",
   "metadata": {},
   "source": [
    "## Verifying Functionality "
   ]
  },
  {
   "cell_type": "code",
   "execution_count": 34,
   "metadata": {},
   "outputs": [],
   "source": [
    "\n",
    "for i in range(NUM_CODES):\n",
    "    error[i]=\"{0:.6f}\".format(abs(out1[i]-golden_op[i]))"
   ]
  },
  {
   "cell_type": "code",
   "execution_count": 35,
   "metadata": {},
   "outputs": [
    {
     "name": "stdout",
     "output_type": "stream",
     "text": [
      "Real Part RMSE:  1.2013298295534854e-05 Imaginary Part RMSE: 4.895988472719265e-06\n",
      "PASS\n"
     ]
    }
   ],
   "source": [
    "sum_sq=0\n",
    "for i in range(NUM_SAMPLES):\n",
    "    sum_sq =sum_sq+(error[i]*error[i])\n",
    "    rmse = np.sqrt(sum_sq_real / (i+1))\n",
    "print(\"RMSE: \", rmse)    \n",
    "if rmse<0.1:\n",
    "    print(\"PASS\")\n",
    "else:\n",
    "    print(\"FAIL\")"
   ]
  },
  {
   "cell_type": "markdown",
   "metadata": {},
   "source": [
    "## Displaying Error and Output"
   ]
  },
  {
   "cell_type": "code",
   "execution_count": 36,
   "metadata": {},
   "outputs": [
    {
     "data": {
      "image/png": "[encoded data removed]",
      "text/plain": [
       "<matplotlib.figure.Figure at 0xadde02d0>"
      ]
     },
     "metadata": {},
     "output_type": "display_data"
    }
   ],
   "source": [
    "plt.figure(figsize=(10, 5))\n",
    "plt.subplot(1,1,1)\n",
    "plt.bar(ind,real_error)\n",
    "plt.title(\"RMSE Error\")\n",
    "plt.xlabel(\"Index\")\n",
    "plt.ylabel(\"Error\")\n",
    "#plt.xticks(ind)\n",
    "plt.tight_layout()"
   ]
  }
 ],
 "metadata": {
  "kernelspec": {
   "display_name": "Python 3",
   "language": "python",
   "name": "python3"
  },
  "language_info": {
   "codemirror_mode": {
    "name": "ipython",
    "version": 3
   },
   "file_extension": ".py",
   "mimetype": "text/x-python",
   "name": "python",
   "nbconvert_exporter": "python",
   "pygments_lexer": "ipython3",
   "version": "3.6.5"
  }
 },
 "nbformat": 4,
 "nbformat_minor": 2
}
